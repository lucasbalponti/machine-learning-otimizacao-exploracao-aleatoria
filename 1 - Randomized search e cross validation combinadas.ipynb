{
 "cells": [
  {
   "attachments": {},
   "cell_type": "markdown",
   "metadata": {},
   "source": [
    "<h1>Conceito</h1>\n",
    "\n",
    "<h2><i>Randomized search cross validation</i></h2>\n",
    "\n",
    "Ao se realizar a otimização dos hiperparâmetros de um modelo de machine learning, o espaço definido pelos hiperparâmetros a serem testados pode ser muito grande e acabar tornando inviável testar todos os pontos discretos desse espaço (que é o que é feito pela classe *GridSearchCV*). Nestes casos é interessante utilizar uma busca aleatória dentre as combinações de parâmetros, utilizando a classe ***RandomizedSearchCV***.\n",
    "\n",
    "Essa classe irá selecionar aleatóriamente pontos do espaço definido e testá-los e, semelhante a classe *GridSearchCV*, irá ter diversos atributos, como os *scores*, modelo de melhor desempenho etc.\n",
    "\n",
    "Algumas das **vantagens** da busca aleatória são:\n",
    "\n",
    "- É possível definir um número de amostras a serem testadas independente do número total de parâmetros e possíveis combinações\n",
    "- Adicionar parâmetros que não influenciam a porformance não irá reduzir a eficiência da busca\n",
    "- É possível utilizar intervalos contínuos e não apenas discretos (para parâmetros que aceitem intervalos contínuos obviamente)"
   ]
  },
  {
   "attachments": {},
   "cell_type": "markdown",
   "metadata": {},
   "source": [
    "<h1>Aplicação</h1>"
   ]
  },
  {
   "cell_type": "code",
   "execution_count": 7,
   "metadata": {},
   "outputs": [],
   "source": [
    "# Importando as bibliotecas\n",
    "import pandas as pd\n",
    "import numpy as np\n",
    "\n",
    "from sklearn.model_selection import KFold\n",
    "from sklearn.model_selection import RandomizedSearchCV\n",
    "from sklearn.model_selection import cross_val_score\n",
    "from sklearn.tree import DecisionTreeClassifier"
   ]
  },
  {
   "cell_type": "code",
   "execution_count": 2,
   "metadata": {},
   "outputs": [
    {
     "data": {
      "text/html": [
       "<div>\n",
       "<style scoped>\n",
       "    .dataframe tbody tr th:only-of-type {\n",
       "        vertical-align: middle;\n",
       "    }\n",
       "\n",
       "    .dataframe tbody tr th {\n",
       "        vertical-align: top;\n",
       "    }\n",
       "\n",
       "    .dataframe thead th {\n",
       "        text-align: right;\n",
       "    }\n",
       "</style>\n",
       "<table border=\"1\" class=\"dataframe\">\n",
       "  <thead>\n",
       "    <tr style=\"text-align: right;\">\n",
       "      <th></th>\n",
       "      <th>preco</th>\n",
       "      <th>vendido</th>\n",
       "      <th>idade_do_modelo</th>\n",
       "      <th>km_por_ano</th>\n",
       "    </tr>\n",
       "  </thead>\n",
       "  <tbody>\n",
       "    <tr>\n",
       "      <th>0</th>\n",
       "      <td>30941.02</td>\n",
       "      <td>1</td>\n",
       "      <td>18</td>\n",
       "      <td>35085.22134</td>\n",
       "    </tr>\n",
       "    <tr>\n",
       "      <th>1</th>\n",
       "      <td>40557.96</td>\n",
       "      <td>1</td>\n",
       "      <td>20</td>\n",
       "      <td>12622.05362</td>\n",
       "    </tr>\n",
       "    <tr>\n",
       "      <th>2</th>\n",
       "      <td>89627.50</td>\n",
       "      <td>0</td>\n",
       "      <td>12</td>\n",
       "      <td>11440.79806</td>\n",
       "    </tr>\n",
       "    <tr>\n",
       "      <th>3</th>\n",
       "      <td>95276.14</td>\n",
       "      <td>0</td>\n",
       "      <td>3</td>\n",
       "      <td>43167.32682</td>\n",
       "    </tr>\n",
       "    <tr>\n",
       "      <th>4</th>\n",
       "      <td>117384.68</td>\n",
       "      <td>1</td>\n",
       "      <td>4</td>\n",
       "      <td>12770.11290</td>\n",
       "    </tr>\n",
       "  </tbody>\n",
       "</table>\n",
       "</div>"
      ],
      "text/plain": [
       "       preco  vendido  idade_do_modelo   km_por_ano\n",
       "0   30941.02        1               18  35085.22134\n",
       "1   40557.96        1               20  12622.05362\n",
       "2   89627.50        0               12  11440.79806\n",
       "3   95276.14        0                3  43167.32682\n",
       "4  117384.68        1                4  12770.11290"
      ]
     },
     "execution_count": 2,
     "metadata": {},
     "output_type": "execute_result"
    }
   ],
   "source": [
    "# Importando a base de dados\n",
    "base = pd.read_csv(r'Dados\\base.csv')\n",
    "base.head()"
   ]
  },
  {
   "cell_type": "code",
   "execution_count": 3,
   "metadata": {},
   "outputs": [],
   "source": [
    "# Definindo inputs e outputs\n",
    "x = base[['preco', 'idade_do_modelo', 'km_por_ano']].values\n",
    "y = base['vendido'].values.ravel()"
   ]
  },
  {
   "cell_type": "code",
   "execution_count": 6,
   "metadata": {},
   "outputs": [],
   "source": [
    "# Otimizando uma árvore de decisão através do RandomizedSearchCV\n",
    "\n",
    "SEED=301\n",
    "np.random.seed(SEED)\n",
    "\n",
    "parameters = {\n",
    "    'max_depth': [3,4,5],\n",
    "    'min_samples_split':range(32,129),\n",
    "    'min_samples_leaf': range(32,129),\n",
    "    'criterion': ['gini', 'entropy']\n",
    "}\n",
    "\n",
    "busca = RandomizedSearchCV(\n",
    "    DecisionTreeClassifier(),\n",
    "    parameters,\n",
    "    cv = KFold(n_splits=10, shuffle=True),\n",
    "    n_iter=30\n",
    ")"
   ]
  },
  {
   "cell_type": "code",
   "execution_count": 8,
   "metadata": {},
   "outputs": [],
   "source": [
    "# Realizando um teste simples, sem validação cruzada externa:\n",
    "busca.fit(x,y)\n",
    "resultados_simples = pd.DataFrame(busca.cv_results_)"
   ]
  },
  {
   "cell_type": "code",
   "execution_count": 9,
   "metadata": {},
   "outputs": [
    {
     "data": {
      "text/html": [
       "<div>\n",
       "<style scoped>\n",
       "    .dataframe tbody tr th:only-of-type {\n",
       "        vertical-align: middle;\n",
       "    }\n",
       "\n",
       "    .dataframe tbody tr th {\n",
       "        vertical-align: top;\n",
       "    }\n",
       "\n",
       "    .dataframe thead th {\n",
       "        text-align: right;\n",
       "    }\n",
       "</style>\n",
       "<table border=\"1\" class=\"dataframe\">\n",
       "  <thead>\n",
       "    <tr style=\"text-align: right;\">\n",
       "      <th></th>\n",
       "      <th>mean_fit_time</th>\n",
       "      <th>std_fit_time</th>\n",
       "      <th>mean_score_time</th>\n",
       "      <th>std_score_time</th>\n",
       "      <th>param_min_samples_split</th>\n",
       "      <th>param_min_samples_leaf</th>\n",
       "      <th>param_max_depth</th>\n",
       "      <th>param_criterion</th>\n",
       "      <th>params</th>\n",
       "      <th>split0_test_score</th>\n",
       "      <th>...</th>\n",
       "      <th>split3_test_score</th>\n",
       "      <th>split4_test_score</th>\n",
       "      <th>split5_test_score</th>\n",
       "      <th>split6_test_score</th>\n",
       "      <th>split7_test_score</th>\n",
       "      <th>split8_test_score</th>\n",
       "      <th>split9_test_score</th>\n",
       "      <th>mean_test_score</th>\n",
       "      <th>std_test_score</th>\n",
       "      <th>rank_test_score</th>\n",
       "    </tr>\n",
       "  </thead>\n",
       "  <tbody>\n",
       "    <tr>\n",
       "      <th>0</th>\n",
       "      <td>0.013898</td>\n",
       "      <td>0.001687</td>\n",
       "      <td>0.000800</td>\n",
       "      <td>0.000246</td>\n",
       "      <td>97</td>\n",
       "      <td>92</td>\n",
       "      <td>3</td>\n",
       "      <td>entropy</td>\n",
       "      <td>{'min_samples_split': 97, 'min_samples_leaf': ...</td>\n",
       "      <td>0.775</td>\n",
       "      <td>...</td>\n",
       "      <td>0.772</td>\n",
       "      <td>0.818</td>\n",
       "      <td>0.783</td>\n",
       "      <td>0.784</td>\n",
       "      <td>0.781</td>\n",
       "      <td>0.79</td>\n",
       "      <td>0.794</td>\n",
       "      <td>0.7869</td>\n",
       "      <td>0.012700</td>\n",
       "      <td>1</td>\n",
       "    </tr>\n",
       "    <tr>\n",
       "      <th>1</th>\n",
       "      <td>0.014547</td>\n",
       "      <td>0.000685</td>\n",
       "      <td>0.000905</td>\n",
       "      <td>0.000376</td>\n",
       "      <td>115</td>\n",
       "      <td>112</td>\n",
       "      <td>4</td>\n",
       "      <td>entropy</td>\n",
       "      <td>{'min_samples_split': 115, 'min_samples_leaf':...</td>\n",
       "      <td>0.775</td>\n",
       "      <td>...</td>\n",
       "      <td>0.772</td>\n",
       "      <td>0.818</td>\n",
       "      <td>0.783</td>\n",
       "      <td>0.784</td>\n",
       "      <td>0.781</td>\n",
       "      <td>0.79</td>\n",
       "      <td>0.794</td>\n",
       "      <td>0.7869</td>\n",
       "      <td>0.012700</td>\n",
       "      <td>1</td>\n",
       "    </tr>\n",
       "    <tr>\n",
       "      <th>2</th>\n",
       "      <td>0.018346</td>\n",
       "      <td>0.002397</td>\n",
       "      <td>0.000752</td>\n",
       "      <td>0.000337</td>\n",
       "      <td>57</td>\n",
       "      <td>70</td>\n",
       "      <td>5</td>\n",
       "      <td>entropy</td>\n",
       "      <td>{'min_samples_split': 57, 'min_samples_leaf': ...</td>\n",
       "      <td>0.775</td>\n",
       "      <td>...</td>\n",
       "      <td>0.761</td>\n",
       "      <td>0.815</td>\n",
       "      <td>0.784</td>\n",
       "      <td>0.784</td>\n",
       "      <td>0.778</td>\n",
       "      <td>0.79</td>\n",
       "      <td>0.794</td>\n",
       "      <td>0.7848</td>\n",
       "      <td>0.013497</td>\n",
       "      <td>28</td>\n",
       "    </tr>\n",
       "    <tr>\n",
       "      <th>3</th>\n",
       "      <td>0.015749</td>\n",
       "      <td>0.004485</td>\n",
       "      <td>0.000901</td>\n",
       "      <td>0.000489</td>\n",
       "      <td>58</td>\n",
       "      <td>117</td>\n",
       "      <td>3</td>\n",
       "      <td>entropy</td>\n",
       "      <td>{'min_samples_split': 58, 'min_samples_leaf': ...</td>\n",
       "      <td>0.775</td>\n",
       "      <td>...</td>\n",
       "      <td>0.772</td>\n",
       "      <td>0.818</td>\n",
       "      <td>0.783</td>\n",
       "      <td>0.784</td>\n",
       "      <td>0.781</td>\n",
       "      <td>0.79</td>\n",
       "      <td>0.794</td>\n",
       "      <td>0.7869</td>\n",
       "      <td>0.012700</td>\n",
       "      <td>1</td>\n",
       "    </tr>\n",
       "    <tr>\n",
       "      <th>4</th>\n",
       "      <td>0.018897</td>\n",
       "      <td>0.003263</td>\n",
       "      <td>0.000901</td>\n",
       "      <td>0.000375</td>\n",
       "      <td>68</td>\n",
       "      <td>98</td>\n",
       "      <td>5</td>\n",
       "      <td>entropy</td>\n",
       "      <td>{'min_samples_split': 68, 'min_samples_leaf': ...</td>\n",
       "      <td>0.775</td>\n",
       "      <td>...</td>\n",
       "      <td>0.761</td>\n",
       "      <td>0.818</td>\n",
       "      <td>0.783</td>\n",
       "      <td>0.784</td>\n",
       "      <td>0.777</td>\n",
       "      <td>0.79</td>\n",
       "      <td>0.794</td>\n",
       "      <td>0.7849</td>\n",
       "      <td>0.014244</td>\n",
       "      <td>24</td>\n",
       "    </tr>\n",
       "  </tbody>\n",
       "</table>\n",
       "<p>5 rows × 22 columns</p>\n",
       "</div>"
      ],
      "text/plain": [
       "   mean_fit_time  std_fit_time  mean_score_time  std_score_time   \n",
       "0       0.013898      0.001687         0.000800        0.000246  \\\n",
       "1       0.014547      0.000685         0.000905        0.000376   \n",
       "2       0.018346      0.002397         0.000752        0.000337   \n",
       "3       0.015749      0.004485         0.000901        0.000489   \n",
       "4       0.018897      0.003263         0.000901        0.000375   \n",
       "\n",
       "  param_min_samples_split param_min_samples_leaf param_max_depth   \n",
       "0                      97                     92               3  \\\n",
       "1                     115                    112               4   \n",
       "2                      57                     70               5   \n",
       "3                      58                    117               3   \n",
       "4                      68                     98               5   \n",
       "\n",
       "  param_criterion                                             params   \n",
       "0         entropy  {'min_samples_split': 97, 'min_samples_leaf': ...  \\\n",
       "1         entropy  {'min_samples_split': 115, 'min_samples_leaf':...   \n",
       "2         entropy  {'min_samples_split': 57, 'min_samples_leaf': ...   \n",
       "3         entropy  {'min_samples_split': 58, 'min_samples_leaf': ...   \n",
       "4         entropy  {'min_samples_split': 68, 'min_samples_leaf': ...   \n",
       "\n",
       "   split0_test_score  ...  split3_test_score  split4_test_score   \n",
       "0              0.775  ...              0.772              0.818  \\\n",
       "1              0.775  ...              0.772              0.818   \n",
       "2              0.775  ...              0.761              0.815   \n",
       "3              0.775  ...              0.772              0.818   \n",
       "4              0.775  ...              0.761              0.818   \n",
       "\n",
       "   split5_test_score  split6_test_score  split7_test_score  split8_test_score   \n",
       "0              0.783              0.784              0.781               0.79  \\\n",
       "1              0.783              0.784              0.781               0.79   \n",
       "2              0.784              0.784              0.778               0.79   \n",
       "3              0.783              0.784              0.781               0.79   \n",
       "4              0.783              0.784              0.777               0.79   \n",
       "\n",
       "   split9_test_score  mean_test_score  std_test_score  rank_test_score  \n",
       "0              0.794           0.7869        0.012700                1  \n",
       "1              0.794           0.7869        0.012700                1  \n",
       "2              0.794           0.7848        0.013497               28  \n",
       "3              0.794           0.7869        0.012700                1  \n",
       "4              0.794           0.7849        0.014244               24  \n",
       "\n",
       "[5 rows x 22 columns]"
      ]
     },
     "execution_count": 9,
     "metadata": {},
     "output_type": "execute_result"
    }
   ],
   "source": [
    "resultados_simples.head()"
   ]
  },
  {
   "cell_type": "code",
   "execution_count": 10,
   "metadata": {},
   "outputs": [],
   "source": [
    "# Realizando agora um teste com validação cruzada externa:\n",
    "\n",
    "SEED=301\n",
    "np.random.seed(SEED)\n",
    "\n",
    "cv_score = cross_val_score(busca, x, y, cv=KFold(n_splits=10, shuffle=True))"
   ]
  },
  {
   "cell_type": "code",
   "execution_count": 11,
   "metadata": {},
   "outputs": [
    {
     "data": {
      "text/plain": [
       "array([0.778, 0.782, 0.792, 0.783, 0.798, 0.788, 0.785, 0.762, 0.796,\n",
       "       0.796])"
      ]
     },
     "execution_count": 11,
     "metadata": {},
     "output_type": "execute_result"
    }
   ],
   "source": [
    "# Verificando o score de cada iteração:\n",
    "cv_score"
   ]
  },
  {
   "cell_type": "code",
   "execution_count": 12,
   "metadata": {},
   "outputs": [
    {
     "name": "stdout",
     "output_type": "stream",
     "text": [
      "Score médio: 78.60\n",
      "Intervalo: [76.55, 80.65]\n"
     ]
    }
   ],
   "source": [
    "# Verificando o score médio final e seu intervalo:\n",
    "\n",
    "print(f'Score médio: {cv_score.mean()*100:.2f}')\n",
    "print(f'Intervalo: [{(cv_score.mean() - 2*cv_score.std())*100:.2f}, {(cv_score.mean() + 2*cv_score.std())*100:.2f}]')"
   ]
  },
  {
   "cell_type": "code",
   "execution_count": 13,
   "metadata": {},
   "outputs": [
    {
     "data": {
      "text/html": [
       "<style>#sk-container-id-1 {color: black;background-color: white;}#sk-container-id-1 pre{padding: 0;}#sk-container-id-1 div.sk-toggleable {background-color: white;}#sk-container-id-1 label.sk-toggleable__label {cursor: pointer;display: block;width: 100%;margin-bottom: 0;padding: 0.3em;box-sizing: border-box;text-align: center;}#sk-container-id-1 label.sk-toggleable__label-arrow:before {content: \"▸\";float: left;margin-right: 0.25em;color: #696969;}#sk-container-id-1 label.sk-toggleable__label-arrow:hover:before {color: black;}#sk-container-id-1 div.sk-estimator:hover label.sk-toggleable__label-arrow:before {color: black;}#sk-container-id-1 div.sk-toggleable__content {max-height: 0;max-width: 0;overflow: hidden;text-align: left;background-color: #f0f8ff;}#sk-container-id-1 div.sk-toggleable__content pre {margin: 0.2em;color: black;border-radius: 0.25em;background-color: #f0f8ff;}#sk-container-id-1 input.sk-toggleable__control:checked~div.sk-toggleable__content {max-height: 200px;max-width: 100%;overflow: auto;}#sk-container-id-1 input.sk-toggleable__control:checked~label.sk-toggleable__label-arrow:before {content: \"▾\";}#sk-container-id-1 div.sk-estimator input.sk-toggleable__control:checked~label.sk-toggleable__label {background-color: #d4ebff;}#sk-container-id-1 div.sk-label input.sk-toggleable__control:checked~label.sk-toggleable__label {background-color: #d4ebff;}#sk-container-id-1 input.sk-hidden--visually {border: 0;clip: rect(1px 1px 1px 1px);clip: rect(1px, 1px, 1px, 1px);height: 1px;margin: -1px;overflow: hidden;padding: 0;position: absolute;width: 1px;}#sk-container-id-1 div.sk-estimator {font-family: monospace;background-color: #f0f8ff;border: 1px dotted black;border-radius: 0.25em;box-sizing: border-box;margin-bottom: 0.5em;}#sk-container-id-1 div.sk-estimator:hover {background-color: #d4ebff;}#sk-container-id-1 div.sk-parallel-item::after {content: \"\";width: 100%;border-bottom: 1px solid gray;flex-grow: 1;}#sk-container-id-1 div.sk-label:hover label.sk-toggleable__label {background-color: #d4ebff;}#sk-container-id-1 div.sk-serial::before {content: \"\";position: absolute;border-left: 1px solid gray;box-sizing: border-box;top: 0;bottom: 0;left: 50%;z-index: 0;}#sk-container-id-1 div.sk-serial {display: flex;flex-direction: column;align-items: center;background-color: white;padding-right: 0.2em;padding-left: 0.2em;position: relative;}#sk-container-id-1 div.sk-item {position: relative;z-index: 1;}#sk-container-id-1 div.sk-parallel {display: flex;align-items: stretch;justify-content: center;background-color: white;position: relative;}#sk-container-id-1 div.sk-item::before, #sk-container-id-1 div.sk-parallel-item::before {content: \"\";position: absolute;border-left: 1px solid gray;box-sizing: border-box;top: 0;bottom: 0;left: 50%;z-index: -1;}#sk-container-id-1 div.sk-parallel-item {display: flex;flex-direction: column;z-index: 1;position: relative;background-color: white;}#sk-container-id-1 div.sk-parallel-item:first-child::after {align-self: flex-end;width: 50%;}#sk-container-id-1 div.sk-parallel-item:last-child::after {align-self: flex-start;width: 50%;}#sk-container-id-1 div.sk-parallel-item:only-child::after {width: 0;}#sk-container-id-1 div.sk-dashed-wrapped {border: 1px dashed gray;margin: 0 0.4em 0.5em 0.4em;box-sizing: border-box;padding-bottom: 0.4em;background-color: white;}#sk-container-id-1 div.sk-label label {font-family: monospace;font-weight: bold;display: inline-block;line-height: 1.2em;}#sk-container-id-1 div.sk-label-container {text-align: center;}#sk-container-id-1 div.sk-container {/* jupyter's `normalize.less` sets `[hidden] { display: none; }` but bootstrap.min.css set `[hidden] { display: none !important; }` so we also need the `!important` here to be able to override the default hidden behavior on the sphinx rendered scikit-learn.org. See: https://github.com/scikit-learn/scikit-learn/issues/21755 */display: inline-block !important;position: relative;}#sk-container-id-1 div.sk-text-repr-fallback {display: none;}</style><div id=\"sk-container-id-1\" class=\"sk-top-container\"><div class=\"sk-text-repr-fallback\"><pre>DecisionTreeClassifier(criterion=&#x27;entropy&#x27;, max_depth=3, min_samples_leaf=92,\n",
       "                       min_samples_split=97)</pre><b>In a Jupyter environment, please rerun this cell to show the HTML representation or trust the notebook. <br />On GitHub, the HTML representation is unable to render, please try loading this page with nbviewer.org.</b></div><div class=\"sk-container\" hidden><div class=\"sk-item\"><div class=\"sk-estimator sk-toggleable\"><input class=\"sk-toggleable__control sk-hidden--visually\" id=\"sk-estimator-id-1\" type=\"checkbox\" checked><label for=\"sk-estimator-id-1\" class=\"sk-toggleable__label sk-toggleable__label-arrow\">DecisionTreeClassifier</label><div class=\"sk-toggleable__content\"><pre>DecisionTreeClassifier(criterion=&#x27;entropy&#x27;, max_depth=3, min_samples_leaf=92,\n",
       "                       min_samples_split=97)</pre></div></div></div></div></div>"
      ],
      "text/plain": [
       "DecisionTreeClassifier(criterion='entropy', max_depth=3, min_samples_leaf=92,\n",
       "                       min_samples_split=97)"
      ]
     },
     "execution_count": 13,
     "metadata": {},
     "output_type": "execute_result"
    }
   ],
   "source": [
    "# Verificando o melhor estimador:\n",
    "busca.best_estimator_"
   ]
  }
 ],
 "metadata": {
  "kernelspec": {
   "display_name": "Python 3",
   "language": "python",
   "name": "python3"
  },
  "language_info": {
   "codemirror_mode": {
    "name": "ipython",
    "version": 3
   },
   "file_extension": ".py",
   "mimetype": "text/x-python",
   "name": "python",
   "nbconvert_exporter": "python",
   "pygments_lexer": "ipython3",
   "version": "3.11.0"
  },
  "orig_nbformat": 4
 },
 "nbformat": 4,
 "nbformat_minor": 2
}
